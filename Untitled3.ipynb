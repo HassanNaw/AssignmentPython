{
 "cells": [
  {
   "cell_type": "code",
   "execution_count": 1,
   "metadata": {},
   "outputs": [],
   "source": [
    "import numpy as np\n",
    "import pandas as pd\n",
    "from sklearn.preprocessing import LabelEncoder\n",
    "import random\n",
    "from sklearn.ensemble import RandomForestClassifier\n",
    "from sklearn.metrics import accuracy_score\n",
    "from sklearn.metrics import confusion_matrix\n",
    "from sklearn.externals import joblib"
   ]
  },
  {
   "cell_type": "code",
   "execution_count": 3,
   "metadata": {},
   "outputs": [
    {
     "name": "stdout",
     "output_type": "stream",
     "text": [
      "RandomForestClassifier Classifier Accuracy is  99.375\n",
      "0.99375\n",
      "RandomForestClassifier Classifier Accuracy is  34.04255319148936\n"
     ]
    }
   ],
   "source": [
    "complete=pd.read_csv('D:/Assignment/Python/Sample DataSets/SonarAllData/sonarAlldata.csv')\n",
    "complete_data = pd.DataFrame()\n",
    "complete_data = complete\n",
    "\n",
    "#80 % for Train :\n",
    "train_data = complete_data.iloc[:160,:]\n",
    "\n",
    "ClassLabel = train_data.values [:,60]\n",
    "RemainingCols = train_data.values [:,:59]\n",
    "RC_Train = pd.DataFrame(RemainingCols)\n",
    "\n",
    "Classifer_ = RandomForestClassifier(bootstrap=True, class_weight=None, criterion='gini',\n",
    "            max_depth=None, max_features='auto', max_leaf_nodes=None,\n",
    "            min_impurity_decrease=0.0, min_impurity_split=None,\n",
    "            min_samples_leaf=1, min_samples_split=2,\n",
    "            min_weight_fraction_leaf=0.0, n_estimators=10, n_jobs=None,\n",
    "            oob_score=False, random_state=None, verbose=0,\n",
    "            warm_start=False)\n",
    "\n",
    "Classifer_.fit(RC_Train,ClassLabel)\n",
    "\n",
    "TrainScoreTest= Classifer_.predict(RC_Train)\n",
    "print (\"RandomForestClassifier Classifier Accuracy is \",accuracy_score (ClassLabel,TrainScoreTest)*100)\n",
    "confusion_matrix(ClassLabel, TrainScoreTest)\n",
    "\n",
    "#saving model\\n\",\n",
    "filename = 'finalized_Classifier.sav'\n",
    "joblib.dump(Classifer_,filename)\n",
    "\n",
    "#loading model\n",
    "loaded_model = joblib.load(filename)\n",
    "result = loaded_model.score(RemainingCols,ClassLabel)\n",
    "print(result)\n",
    "\n",
    "\n",
    "#Scoring Data Split :\n",
    "test_data = complete_data.iloc[160:,:]\n",
    "\n",
    "#SCORING\n",
    "ClassLabel = test_data.values [:,60]\n",
    "RemainingCols = test_data.values [:,:59]\n",
    "RC_Score = pd.DataFrame(RemainingCols)\n",
    "ClassLabelScore = pd.DataFrame(ClassLabel)\n",
    "Scoring = loaded_model.predict(RemainingCols)\n",
    "print (\"RandomForestClassifier Classifier Accuracy is \", accuracy_score(ClassLabel,Scoring)*100)\n",
    "output =confusion_matrix(ClassLabel, Scoring)\n"
   ]
  },
  {
   "cell_type": "code",
   "execution_count": null,
   "metadata": {},
   "outputs": [],
   "source": []
  }
 ],
 "metadata": {
  "kernelspec": {
   "display_name": "Python 3",
   "language": "python",
   "name": "python3"
  },
  "language_info": {
   "codemirror_mode": {
    "name": "ipython",
    "version": 3
   },
   "file_extension": ".py",
   "mimetype": "text/x-python",
   "name": "python",
   "nbconvert_exporter": "python",
   "pygments_lexer": "ipython3",
   "version": "3.7.0"
  }
 },
 "nbformat": 4,
 "nbformat_minor": 2
}
