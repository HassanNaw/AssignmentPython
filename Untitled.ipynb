{
 "cells": [
  {
   "cell_type": "code",
   "execution_count": 1,
   "metadata": {},
   "outputs": [],
   "source": [
    "import numpy as np\n",
    "import pandas as pd\n",
    "from sklearn.preprocessing import LabelEncoder\n",
    "import random\n",
    "from sklearn.ensemble import RandomForestClassifier\n",
    "from sklearn.metrics import accuracy_score\n",
    "from sklearn.metrics import confusion_matrix\n",
    "from sklearn.externals import joblib"
   ]
  },
  {
   "cell_type": "code",
   "execution_count": 2,
   "metadata": {},
   "outputs": [],
   "source": [
    "complete=pd.read_csv('D:/Assignment/Python/Sample DataSets/Pima_India/pima_indians_diabetesComplete.csv')\n",
    "complete_data = pd.DataFrame()\n",
    "complete_data = complete"
   ]
  },
  {
   "cell_type": "code",
   "execution_count": 3,
   "metadata": {},
   "outputs": [],
   "source": [
    "#80 % for Train :\n",
    "train_data = complete_data.iloc[:600,:]"
   ]
  },
  {
   "cell_type": "code",
   "execution_count": 4,
   "metadata": {},
   "outputs": [],
   "source": [
    "ClassLabel = train_data.values [:,8]\n",
    "RemainingCols = train_data.values [:,:7]\n",
    "RC_Train = pd.DataFrame(RemainingCols)"
   ]
  },
  {
   "cell_type": "code",
   "execution_count": 5,
   "metadata": {},
   "outputs": [],
   "source": [
    "Classifer_ = RandomForestClassifier(bootstrap=True, class_weight=None, criterion='gini',\n",
    "            max_depth=None, max_features='auto', max_leaf_nodes=None,\n",
    "            min_impurity_decrease=0.0, min_impurity_split=None,\n",
    "            min_samples_leaf=1, min_samples_split=2,\n",
    "            min_weight_fraction_leaf=0.0, n_estimators=10, n_jobs=None,\n",
    "            oob_score=False, random_state=None, verbose=0,\n",
    "            warm_start=False)"
   ]
  },
  {
   "cell_type": "code",
   "execution_count": 6,
   "metadata": {},
   "outputs": [
    {
     "data": {
      "text/plain": [
       "RandomForestClassifier(bootstrap=True, class_weight=None, criterion='gini',\n",
       "            max_depth=None, max_features='auto', max_leaf_nodes=None,\n",
       "            min_impurity_decrease=0.0, min_impurity_split=None,\n",
       "            min_samples_leaf=1, min_samples_split=2,\n",
       "            min_weight_fraction_leaf=0.0, n_estimators=10, n_jobs=None,\n",
       "            oob_score=False, random_state=None, verbose=0,\n",
       "            warm_start=False)"
      ]
     },
     "execution_count": 6,
     "metadata": {},
     "output_type": "execute_result"
    }
   ],
   "source": [
    "Classifer_.fit(RC_Train,ClassLabel)"
   ]
  },
  {
   "cell_type": "code",
   "execution_count": 7,
   "metadata": {},
   "outputs": [
    {
     "name": "stdout",
     "output_type": "stream",
     "text": [
      "RandomForestClassifier Classifier Accuracy is  98.16666666666667\n"
     ]
    },
    {
     "data": {
      "text/plain": [
       "array([[389,   3],\n",
       "       [  8, 200]], dtype=int64)"
      ]
     },
     "execution_count": 7,
     "metadata": {},
     "output_type": "execute_result"
    }
   ],
   "source": [
    "TrainScoreTest= Classifer_.predict(RC_Train)\n",
    "print (\"RandomForestClassifier Classifier Accuracy is \",accuracy_score (ClassLabel,TrainScoreTest)*100)\n",
    "confusion_matrix(ClassLabel, TrainScoreTest)"
   ]
  },
  {
   "cell_type": "code",
   "execution_count": 8,
   "metadata": {},
   "outputs": [
    {
     "data": {
      "text/plain": [
       "array([0.09622343, 0.26084703, 0.11076992, 0.08836188, 0.10083229,\n",
       "       0.21866548, 0.12429996])"
      ]
     },
     "execution_count": 8,
     "metadata": {},
     "output_type": "execute_result"
    }
   ],
   "source": [
    "importances = Classifer_.feature_importances_\n",
    "importances"
   ]
  },
  {
   "cell_type": "code",
   "execution_count": 10,
   "metadata": {},
   "outputs": [
    {
     "name": "stdout",
     "output_type": "stream",
     "text": [
      "0.9816666666666667\n"
     ]
    }
   ],
   "source": [
    "#Saving Model :\n",
    "#data : ['finalized_model_Medium.sav']\n",
    "\n",
    "#saving model\\n\",\n",
    "filename = 'finalized_Classifier.sav'\n",
    "joblib.dump(Classifer_,filename)\n",
    "\n",
    "#loading model\n",
    "loaded_model = joblib.load(filename)\n",
    "result = loaded_model.score(RemainingCols,ClassLabel)\n",
    "print(result)\n",
    "#DONE TILL HERE !\"\n"
   ]
  },
  {
   "cell_type": "code",
   "execution_count": 11,
   "metadata": {},
   "outputs": [],
   "source": [
    "#Scoring Data Split :\n",
    "test_data = complete_data.iloc[600:,:]"
   ]
  },
  {
   "cell_type": "code",
   "execution_count": 13,
   "metadata": {},
   "outputs": [
    {
     "name": "stdout",
     "output_type": "stream",
     "text": [
      "RandomForestClassifier Classifier Accuracy is  71.42857142857143\n"
     ]
    }
   ],
   "source": [
    "#SCORING\n",
    "ClassLabel = test_data.values [:,8]\n",
    "RemainingCols = test_data.values [:,:7]\n",
    "RC_Score = pd.DataFrame(RemainingCols)\n",
    "ClassLabelScore = pd.DataFrame(ClassLabel)\n",
    "Scoring = loaded_model.predict(RemainingCols)\n",
    "print (\"RandomForestClassifier Classifier Accuracy is \", accuracy_score(ClassLabel,Scoring)*100)\n",
    "output = confusion_matrix(ClassLabel, Scoring)"
   ]
  }
 ],
 "metadata": {
  "kernelspec": {
   "display_name": "Python 3",
   "language": "python",
   "name": "python3"
  },
  "language_info": {
   "codemirror_mode": {
    "name": "ipython",
    "version": 3
   },
   "file_extension": ".py",
   "mimetype": "text/x-python",
   "name": "python",
   "nbconvert_exporter": "python",
   "pygments_lexer": "ipython3",
   "version": "3.7.0"
  }
 },
 "nbformat": 4,
 "nbformat_minor": 2
}
